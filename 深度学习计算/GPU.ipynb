{
 "cells": [
  {
   "cell_type": "markdown",
   "id": "cd256144",
   "metadata": {},
   "source": [
    "## GPU"
   ]
  },
  {
   "cell_type": "markdown",
   "id": "8e50cb45",
   "metadata": {},
   "source": [
    "在1.5节中，我们回顾了过去20年计算能⼒的快速增⻓。简⽽⾔之，⾃2000年以来，GPU性能每⼗年增⻓1000倍。\n",
    "本节，我们将讨论如何利⽤这种计算性能进⾏研究。⾸先是如何使⽤单个GPU，然后是如何使⽤多个GPU和\n",
    "多个服务器（具有多个GPU）。"
   ]
  },
  {
   "cell_type": "code",
   "execution_count": 1,
   "id": "1e614e06",
   "metadata": {},
   "outputs": [
    {
     "name": "stdout",
     "output_type": "stream",
     "text": [
      "Wed Jul 26 07:09:46 2023       \n",
      "+---------------------------------------------------------------------------------------+\n",
      "| NVIDIA-SMI 536.23                 Driver Version: 536.23       CUDA Version: 12.2     |\n",
      "|-----------------------------------------+----------------------+----------------------+\n",
      "| GPU  Name                     TCC/WDDM  | Bus-Id        Disp.A | Volatile Uncorr. ECC |\n",
      "| Fan  Temp   Perf          Pwr:Usage/Cap |         Memory-Usage | GPU-Util  Compute M. |\n",
      "|                                         |                      |               MIG M. |\n",
      "|=========================================+======================+======================|\n",
      "|   0  NVIDIA GeForce RTX 3060 ...  WDDM  | 00000000:01:00.0 Off |                  N/A |\n",
      "| N/A   36C    P3              20W /  55W |      0MiB /  6144MiB |      0%      Default |\n",
      "|                                         |                      |                  N/A |\n",
      "+-----------------------------------------+----------------------+----------------------+\n",
      "                                                                                         \n",
      "+---------------------------------------------------------------------------------------+\n",
      "| Processes:                                                                            |\n",
      "|  GPU   GI   CI        PID   Type   Process name                            GPU Memory |\n",
      "|        ID   ID                                                             Usage      |\n",
      "|=======================================================================================|\n",
      "|  No running processes found                                                           |\n",
      "+---------------------------------------------------------------------------------------+\n"
     ]
    }
   ],
   "source": [
    "# 我们先看看如何使⽤单个NVIDIA GPU进⾏计算。⾸先，确保⾄少安装了⼀个NVIDIA GPU。然后，下\n",
    "# 载NVIDIA驱动和CUDA 80 并按照提⽰设置适当的路径。当这些准备⼯作完成，就可以使⽤nvidia-smi命令\n",
    "# 来查看显卡信息。\n",
    "!nvidia-smi"
   ]
  },
  {
   "cell_type": "markdown",
   "id": "af99bc5e",
   "metadata": {},
   "source": [
    "在PyTorch中，每个数组都有⼀个设备（device），我们通常将其称为环境（context）。默认情况下，所有\n",
    "变量和相关的计算都分配给CPU。有时环境可能是GPU。当我们跨多个服务器部署作业时，事情会变得更加\n",
    "棘⼿。通过智能地将数组分配给环境，我们可以最⼤限度地减少在设备之间传输数据的时间。例如，当在带\n",
    "有GPU的服务器上训练神经⽹络时，我们通常希望模型的参数在GPU上。"
   ]
  },
  {
   "cell_type": "markdown",
   "id": "a0e7f2e6",
   "metadata": {},
   "source": [
    "要运⾏此部分中的程序，⾄少需要两个GPU。注意，对⼤多数桌⾯计算机来说，这可能是奢侈的，但在云中\n",
    "很容易获得。例如可以使⽤AWS EC2的多GPU实例。本书的其他章节⼤都不需要多个GPU，⽽本节只是为了\n",
    "展⽰数据如何在不同的设备之间传递。"
   ]
  },
  {
   "cell_type": "markdown",
   "id": "56cd8be3",
   "metadata": {},
   "source": [
    "### 计算设备"
   ]
  },
  {
   "cell_type": "markdown",
   "id": "31f72e26",
   "metadata": {},
   "source": [
    "我们可以指定⽤于存储和计算的设备，如CPU和GPU。默认情况下，张量是在内存中创建的，然后使⽤CPU计\n",
    "算它。"
   ]
  },
  {
   "cell_type": "code",
   "execution_count": 2,
   "id": "6bbf0f2b",
   "metadata": {},
   "outputs": [],
   "source": [
    "# 在PyTorch中，CPU和GPU可以⽤torch.device('cpu') 和torch.device('cuda')表⽰。应该注意的是，cpu设\n",
    "# 备意味着所有物理CPU和内存，这意味着PyTorch的计算将尝试使⽤所有CPU核⼼。然⽽，gpu设备只代表⼀\n",
    "# 个卡和相应的显存。如果有多个GPU，我们使⽤torch.device(f'cuda:{i}') 来表⽰第i块GPU（i从0开始）。\n",
    "# 另外，cuda:0和cuda是等价的。"
   ]
  },
  {
   "cell_type": "code",
   "execution_count": 3,
   "id": "5bbce8d1",
   "metadata": {},
   "outputs": [],
   "source": [
    "import torch\n",
    "from torch import nn"
   ]
  },
  {
   "cell_type": "code",
   "execution_count": 4,
   "id": "55cdab38",
   "metadata": {},
   "outputs": [
    {
     "data": {
      "text/plain": [
       "(device(type='cpu'), device(type='cuda'), device(type='cuda', index=1))"
      ]
     },
     "execution_count": 4,
     "metadata": {},
     "output_type": "execute_result"
    }
   ],
   "source": [
    "torch.device('cpu'), torch.device('cuda'), torch.device('cuda:1')"
   ]
  },
  {
   "cell_type": "code",
   "execution_count": 5,
   "id": "6fc94580",
   "metadata": {},
   "outputs": [
    {
     "data": {
      "text/plain": [
       "1"
      ]
     },
     "execution_count": 5,
     "metadata": {},
     "output_type": "execute_result"
    }
   ],
   "source": [
    "# 我们可以查询可用gpu的数量\n",
    "torch.cuda.device_count()"
   ]
  },
  {
   "cell_type": "code",
   "execution_count": 6,
   "id": "c0c6ec6d",
   "metadata": {},
   "outputs": [],
   "source": [
    "# 我们定义了两个方便的函数，这两个函数允许我们在不存在所需所有GPU的情况下运行代码"
   ]
  },
  {
   "cell_type": "code",
   "execution_count": 7,
   "id": "193889f7",
   "metadata": {},
   "outputs": [],
   "source": [
    "from d2l import torch as d2l"
   ]
  },
  {
   "cell_type": "code",
   "execution_count": 8,
   "id": "d791b721",
   "metadata": {},
   "outputs": [],
   "source": [
    "# d2l.try_gpu(i=0)\n",
    "def try_gpu(i=0):\n",
    "    \"\"\"如果存在，则返回gpu(i), 否则返回cpu()\"\"\"\n",
    "    if torch.cuda.device_count() >= i + 1:\n",
    "        return torch.device(f'cuda:{i}')\n",
    "    return torch.device('cpu')\n",
    "\n",
    "# d2l.try_all_gpus\n",
    "def try_all_gpus():\n",
    "    \"\"\"返回所有可用的GPU,如果没有GPU，则返回[cpu(),]\"\"\"\n",
    "    devices = [torch.device(f'cuda:{i}')\n",
    "               for i in range(torch.cuda.device_count())]\n",
    "    return devices if devices else [torch.device('cpu')]"
   ]
  },
  {
   "cell_type": "code",
   "execution_count": 9,
   "id": "852b158c",
   "metadata": {},
   "outputs": [
    {
     "data": {
      "text/plain": [
       "(device(type='cuda', index=0),\n",
       " device(type='cuda', index=0),\n",
       " [device(type='cuda', index=0)])"
      ]
     },
     "execution_count": 9,
     "metadata": {},
     "output_type": "execute_result"
    }
   ],
   "source": [
    "try_gpu(), try_gpu(0), try_all_gpus()"
   ]
  },
  {
   "cell_type": "markdown",
   "id": "292853f2",
   "metadata": {},
   "source": [
    "### 张量与GPU"
   ]
  },
  {
   "cell_type": "code",
   "execution_count": 10,
   "id": "d376791f",
   "metadata": {},
   "outputs": [],
   "source": [
    "# 我们可以查询张量所在的设备。默认情况下，张量是在CPU上创建的。"
   ]
  },
  {
   "cell_type": "code",
   "execution_count": 11,
   "id": "00bad94a",
   "metadata": {},
   "outputs": [
    {
     "data": {
      "text/plain": [
       "device(type='cpu')"
      ]
     },
     "execution_count": 11,
     "metadata": {},
     "output_type": "execute_result"
    }
   ],
   "source": [
    "x = torch.tensor([1, 2, 3])\n",
    "x.device"
   ]
  },
  {
   "cell_type": "markdown",
   "id": "c60c0c2f",
   "metadata": {},
   "source": [
    "需要注意的是，⽆论何时我们要对多个项进⾏操作，它们都必须在同⼀个设备上。例如，如果我们对两个张\n",
    "量求和，我们需要确保两个张量都位于同⼀个设备上，否则框架将不知道在哪⾥存储结果，甚⾄不知道在哪\n",
    "⾥执⾏计算。"
   ]
  },
  {
   "cell_type": "markdown",
   "id": "6b4c6d74",
   "metadata": {},
   "source": [
    "#### 存储在GPU上"
   ]
  },
  {
   "cell_type": "code",
   "execution_count": 12,
   "id": "db3284e2",
   "metadata": {},
   "outputs": [],
   "source": [
    "# 有⼏种⽅法可以在GPU上存储张量。例如，我们可以在创建张量时指定存储设备。接下来，我们在第⼀个gpu上\n",
    "# 创建张量变量X。在GPU上创建的张量只消耗这个GPU的显存。我们可以使⽤nvidia-smi命令查看显存使⽤情\n",
    "# 况。⼀般来说，我们需要确保不创建超过GPU显存限制的数据。"
   ]
  },
  {
   "cell_type": "code",
   "execution_count": 13,
   "id": "9a18a581",
   "metadata": {},
   "outputs": [
    {
     "data": {
      "text/plain": [
       "tensor([[1., 1., 1.],\n",
       "        [1., 1., 1.]], device='cuda:0')"
      ]
     },
     "execution_count": 13,
     "metadata": {},
     "output_type": "execute_result"
    }
   ],
   "source": [
    "X = torch.ones(2, 3, device=try_gpu())\n",
    "X"
   ]
  },
  {
   "cell_type": "code",
   "execution_count": 15,
   "id": "635378c2",
   "metadata": {},
   "outputs": [
    {
     "data": {
      "text/plain": [
       "tensor([[0.5291, 0.4901, 0.8742],\n",
       "        [0.5900, 0.3551, 0.7226]])"
      ]
     },
     "execution_count": 15,
     "metadata": {},
     "output_type": "execute_result"
    }
   ],
   "source": [
    "# 假设我们至少有两个GPU，下面的代码将在第二个GPU上创建一个随机变量\n",
    "Y = torch.rand(2, 3, device=try_gpu(1))\n",
    "Y"
   ]
  },
  {
   "cell_type": "code",
   "execution_count": 16,
   "id": "d6e89641",
   "metadata": {},
   "outputs": [
    {
     "data": {
      "text/plain": [
       "device(type='cpu')"
      ]
     },
     "execution_count": 16,
     "metadata": {},
     "output_type": "execute_result"
    }
   ],
   "source": [
    "# 由于本电脑只有一个GPU，所以,Y是在CPU上\n",
    "Y.device"
   ]
  },
  {
   "cell_type": "markdown",
   "id": "931ca227",
   "metadata": {},
   "source": [
    "#### 复制"
   ]
  },
  {
   "cell_type": "markdown",
   "id": "094283d0",
   "metadata": {},
   "source": [
    "如果我们要计算X + Y，我们需要决定在哪⾥执⾏这个操作。例如，如 图5.6.1所⽰，我们可以将X传输到第⼆\n",
    "个GPU并在那⾥执⾏操作。不要简单地X加上Y，因为这会导致异常，运⾏时引擎不知道该怎么做：它在同⼀\n",
    "设备上找不到数据会导致失败。由于Y位于第⼆个GPU上，所以我们需要将X移到那⾥，然后才能执⾏相加运\n",
    "算。"
   ]
  },
  {
   "cell_type": "code",
   "execution_count": 17,
   "id": "4df293fc",
   "metadata": {},
   "outputs": [
    {
     "name": "stdout",
     "output_type": "stream",
     "text": [
      "tensor([[1., 1., 1.],\n",
      "        [1., 1., 1.]], device='cuda:0')\n",
      "tensor([[0.5291, 0.4901, 0.8742],\n",
      "        [0.5900, 0.3551, 0.7226]], device='cuda:0')\n"
     ]
    }
   ],
   "source": [
    "Z = Y.cuda(0)\n",
    "print(X)\n",
    "print(Z)"
   ]
  },
  {
   "cell_type": "code",
   "execution_count": 19,
   "id": "aef96b76",
   "metadata": {},
   "outputs": [
    {
     "data": {
      "text/plain": [
       "tensor([[1.5291, 1.4901, 1.8742],\n",
       "        [1.5900, 1.3551, 1.7226]], device='cuda:0')"
      ]
     },
     "execution_count": 19,
     "metadata": {},
     "output_type": "execute_result"
    }
   ],
   "source": [
    "# 现在数据在同一个GPU上，我们可以将它们相加\n",
    "X + Z"
   ]
  },
  {
   "cell_type": "code",
   "execution_count": 21,
   "id": "f05661f7",
   "metadata": {},
   "outputs": [
    {
     "data": {
      "text/plain": [
       "True"
      ]
     },
     "execution_count": 21,
     "metadata": {},
     "output_type": "execute_result"
    }
   ],
   "source": [
    "# 假设变量Z已经存在于第二个GPU上。如果我们还是调用Z.cuda(1)会发生什么？它将返回Z，而不会复制并分\n",
    "# 配新内存\n",
    "Z.cuda(0) is Z"
   ]
  },
  {
   "cell_type": "markdown",
   "id": "450f1e97",
   "metadata": {},
   "source": [
    "#### 旁注"
   ]
  },
  {
   "cell_type": "markdown",
   "id": "22110e13",
   "metadata": {},
   "source": [
    "⼈们使⽤GPU来进⾏机器学习，因为单个GPU相对运⾏速度快。但是在设备（CPU、GPU和其他机器）之间\n",
    "传输数据⽐计算慢得多。这也使得并⾏化变得更加困难，因为我们必须等待数据被发送（或者接收），然后\n",
    "才能继续进⾏更多的操作。这就是为什么拷⻉操作要格外⼩⼼。根据经验，多个⼩操作⽐⼀个⼤操作糟糕得\n",
    "多。此外，⼀次执⾏⼏个操作⽐代码中散布的许多单个操作要好得多。如果⼀个设备必须等待另⼀个设备才\n",
    "能执⾏其他操作，那么这样的操作可能会阻塞。这有点像排队订购咖啡，⽽不像通过电话预先订购：当客⼈\n",
    "到店的时候，咖啡已经准备好了。\n",
    "\n",
    "最后，当我们打印张量或将张量转换为NumPy格式时，如果数据不在内存中，框架会⾸先将其复制到内存中，\n",
    "这会导致额外的传输开销。更糟糕的是，它现在受制于全局解释器锁，使得⼀切都得等待Python完成。"
   ]
  },
  {
   "cell_type": "markdown",
   "id": "76155c57",
   "metadata": {},
   "source": [
    "### 神经网络与GPU"
   ]
  },
  {
   "cell_type": "code",
   "execution_count": 22,
   "id": "3da1628b",
   "metadata": {},
   "outputs": [],
   "source": [
    "# 类似地，神经网络模型可以指定设备。下面的代码将模型参数放在GPU上\n",
    "net = nn.Sequential(nn.Linear(3, 1))\n",
    "net = net.to(device=try_gpu())"
   ]
  },
  {
   "cell_type": "markdown",
   "id": "d9ff6d99",
   "metadata": {},
   "source": [
    "在接下来的⼏章中，我们将看到更多关于如何在GPU上运⾏模型的例⼦，因为它们将变得更加计算密集。\n",
    "当输⼊为GPU上的张量时，模型将在同⼀GPU上计算结果。"
   ]
  },
  {
   "cell_type": "code",
   "execution_count": 23,
   "id": "d6a1f9fb",
   "metadata": {},
   "outputs": [
    {
     "data": {
      "text/plain": [
       "tensor([[0.7778],\n",
       "        [0.7778]], device='cuda:0', grad_fn=<AddmmBackward0>)"
      ]
     },
     "execution_count": 23,
     "metadata": {},
     "output_type": "execute_result"
    }
   ],
   "source": [
    "net(X)"
   ]
  },
  {
   "cell_type": "code",
   "execution_count": 24,
   "id": "8b7f368b",
   "metadata": {},
   "outputs": [
    {
     "data": {
      "text/plain": [
       "device(type='cuda', index=0)"
      ]
     },
     "execution_count": 24,
     "metadata": {},
     "output_type": "execute_result"
    }
   ],
   "source": [
    "# 让我们确认模型参数存储在同一个GPU上\n",
    "net[0].weight.data.device"
   ]
  },
  {
   "cell_type": "markdown",
   "id": "8f28c4b2",
   "metadata": {},
   "source": [
    "总之，只要所有的数据和参数都在同⼀个设备上，我们就可以有效地学习模型。在下⾯的章节中，我们将看\n",
    "到⼏个这样的例⼦。"
   ]
  },
  {
   "cell_type": "markdown",
   "id": "1df4604a",
   "metadata": {},
   "source": [
    "⼩结\n",
    "\n",
    "• 我们可以指定⽤于存储和计算的设备，例如CPU或GPU。默认情况下，数据在主内存中创建，然后使\n",
    "⽤CPU进⾏计算。\n",
    "\n",
    "• 深度学习框架要求计算的所有输⼊数据都在同⼀设备上，⽆论是CPU还是GPU。\n",
    "\n",
    "• 不经意地移动数据可能会显著降低性能。⼀个典型的错误如下：计算GPU上每个⼩批量的损失，并在命令⾏中将其报告给⽤⼾（或将其记录在NumPyndarray中）时，将触发全局解释器锁，从⽽使所有GPU阻塞。最好是为GPU内部的⽇志分配内存，并且只移动较⼤的⽇志。"
   ]
  },
  {
   "cell_type": "code",
   "execution_count": 30,
   "id": "63fc00b7",
   "metadata": {},
   "outputs": [
    {
     "name": "stdout",
     "output_type": "stream",
     "text": [
      "CPU_time: 5.173856\n",
      "GPU_time: 0.516229\n"
     ]
    }
   ],
   "source": [
    "#  尝试⼀个计算量更⼤的任务，⽐如⼤矩阵的乘法，看看CPU和GPU之间的速度差异。再试⼀个计算量很\n",
    "# ⼩的任务呢？\n",
    "\n",
    "import time\n",
    "# 定义矩阵大小\n",
    "matrix_size = 10000\n",
    "\n",
    "# 生成两个随机矩阵\n",
    "matrix_a = torch.rand(matrix_size, matrix_size)\n",
    "matrix_b = torch.rand(matrix_size, matrix_size)\n",
    "\n",
    "# 比较在CPU和GPU上矩阵乘法的速度差异\n",
    "# 使用CPU\n",
    "start_time = time.time()\n",
    "result_cpu = torch.matmul(matrix_a, matrix_b)\n",
    "end_time = time.time()\n",
    "time_cpu = end_time - start_time\n",
    "\n",
    "# 使用GPU\n",
    "device = torch.device('cuda:0')\n",
    "matrix_a_gpu = matrix_a.to(device)\n",
    "matrix_b_gpu = matrix_b.to(device)\n",
    "\n",
    "start_time = time.time()\n",
    "result_gpu = torch.matmul(matrix_a_gpu, matrix_b_gpu)\n",
    "torch.cuda.synchronize() # 等待GPU计算完成\n",
    "end_time = time.time()\n",
    "time_gpu = end_time - start_time\n",
    "\n",
    "print('CPU_time: %f' %time_cpu)\n",
    "print('GPU_time: %f' %time_gpu)"
   ]
  },
  {
   "cell_type": "code",
   "execution_count": 31,
   "id": "c92ae921",
   "metadata": {},
   "outputs": [
    {
     "name": "stdout",
     "output_type": "stream",
     "text": [
      "CPU_time: 0.000000\n",
      "GPU_time: 0.015627\n"
     ]
    }
   ],
   "source": [
    "# 现在我们来试一个计算量很小的任务\n",
    "# 例如：元素级操作（Element-wise operation）\n",
    "\n",
    "# 定义一个小张量\n",
    "small_tensor = torch.ones(100, 100)\n",
    "\n",
    "# 使用CPU计算\n",
    "start_time = time.time()\n",
    "result_cpu = small_tensor * 2\n",
    "end_time = time.time()\n",
    "time_cpu = end_time - start_time\n",
    "\n",
    "# 使用GPU计算\n",
    "small_tensor_gpu = small_tensor.to(device)\n",
    "start_time = time.time()\n",
    "result_gpu = small_tensor_gpu * 2\n",
    "torch.cuda.synchronize() # 等待GPU计算完成\n",
    "end_time = time.time()\n",
    "time_gpu = end_time - start_time\n",
    "\n",
    "print('CPU_time: %f' %time_cpu)\n",
    "print('GPU_time: %f' %time_gpu)"
   ]
  },
  {
   "cell_type": "code",
   "execution_count": 32,
   "id": "5c1d6ce2",
   "metadata": {},
   "outputs": [],
   "source": [
    "torch.bmm??"
   ]
  },
  {
   "cell_type": "code",
   "execution_count": 35,
   "id": "5ca4a4da",
   "metadata": {},
   "outputs": [
    {
     "name": "stdout",
     "output_type": "stream",
     "text": [
      "GPU_time: 0.703619\n",
      "Frobenius范数：\n",
      "\n",
      "2507.86328125\n"
     ]
    }
   ],
   "source": [
    "#  测量计算1000个100×100矩阵的矩阵乘法所需的时间，并记录输出矩阵的Frobenius范数，⼀次记录⼀\n",
    "# 个结果，⽽不是在GPU上保存⽇志并仅传输最终结果。\n",
    "\n",
    "# 定义矩阵数量和矩阵大小\n",
    "num_matrices = 1000\n",
    "matrix_size = 100\n",
    "\n",
    "# 生成随机矩阵\n",
    "matrices_a = torch.rand(num_matrices, matrix_size, matrix_size)\n",
    "matrices_b = torch.rand(num_matrices, matrix_size, matrix_size)\n",
    "\n",
    "# 在GPU上执行矩阵乘法并测量时间\n",
    "device = torch.device('cuda:0')\n",
    "\n",
    "start_time = time.time()\n",
    "matrices_result = torch.bmm(matrices_a.to(device), matrices_b.to(device))\n",
    "torch.cuda.synchronize() # 等待GPU计算完成\n",
    "end_time = time.time()\n",
    "time_elapsed = end_time - start_time\n",
    "\n",
    "# 计算并记录每个输出矩阵的Frobenius范数\n",
    "frobenius_norms = []\n",
    "for i in range(num_matrices):\n",
    "    frobenius_norm = torch.norm(matrices_result[i], 'fro')\n",
    "    frobenius_norms.append(frobenius_norm.item())\n",
    "\n",
    "print('GPU_time: %f' %time_elapsed)\n",
    "print('Frobenius范数：\\n')\n",
    "print(frobenius_norms[0])"
   ]
  },
  {
   "cell_type": "code",
   "execution_count": null,
   "id": "ac13923d",
   "metadata": {},
   "outputs": [],
   "source": []
  }
 ],
 "metadata": {
  "kernelspec": {
   "display_name": "my_env",
   "language": "python",
   "name": "my_env"
  },
  "language_info": {
   "codemirror_mode": {
    "name": "ipython",
    "version": 3
   },
   "file_extension": ".py",
   "mimetype": "text/x-python",
   "name": "python",
   "nbconvert_exporter": "python",
   "pygments_lexer": "ipython3",
   "version": "3.9.17"
  }
 },
 "nbformat": 4,
 "nbformat_minor": 5
}
