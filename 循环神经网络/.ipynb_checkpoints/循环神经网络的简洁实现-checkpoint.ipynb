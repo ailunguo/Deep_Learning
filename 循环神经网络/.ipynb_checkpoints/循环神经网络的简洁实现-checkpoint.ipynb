{
 "cells": [
  {
   "cell_type": "markdown",
   "id": "af65dbcd",
   "metadata": {},
   "source": [
    "## 循环神经网络的简洁实现"
   ]
  },
  {
   "cell_type": "markdown",
   "id": "5fa690dc",
   "metadata": {},
   "source": [
    "虽然 8.5节 对了解循环神经⽹络的实现⽅式具有指导意义，但并不⽅便。本节将展⽰如何使⽤深度学习框架\n",
    "的⾼级API提供的函数更有效地实现相同的语⾔模型。我们仍然从读取时光机器数据集开始。"
   ]
  },
  {
   "cell_type": "code",
   "execution_count": 1,
   "id": "a71260a4",
   "metadata": {},
   "outputs": [],
   "source": [
    "import torch\n",
    "from torch import nn\n",
    "from torch.nn import functional as F\n",
    "from d2l import torch as d2l"
   ]
  },
  {
   "cell_type": "code",
   "execution_count": null,
   "id": "d442f981",
   "metadata": {},
   "outputs": [],
   "source": [
    "batch_size, num_steps = 32, 35\n",
    "train_iter, vocab = d2l.load_data_time_machine(batch_size, num_steps)"
   ]
  },
  {
   "cell_type": "markdown",
   "id": "2cae67dd",
   "metadata": {},
   "source": [
    "### 定义模型"
   ]
  },
  {
   "cell_type": "markdown",
   "id": "8ea86f95",
   "metadata": {},
   "source": [
    "⾼级API提供了循环神经⽹络的实现。我们构造⼀个具有256个隐藏单元的单隐藏层的循环神经⽹络\n",
    "层rnn_layer。事实上，我们还没有讨论多层循环神经⽹络的意义（这将在 9.3节中介绍）。现在仅需要将\n",
    "多层理解为⼀层循环神经⽹络的输出被⽤作下⼀层循环神经⽹络的输⼊就⾜够了。"
   ]
  },
  {
   "cell_type": "code",
   "execution_count": null,
   "id": "743fa476",
   "metadata": {},
   "outputs": [],
   "source": [
    "num_hiddens = 256\n",
    "rnn_layer = nn.RNN(len(vocab), num_hiddens)"
   ]
  },
  {
   "cell_type": "markdown",
   "id": "86610bdd",
   "metadata": {},
   "source": [
    "我们使⽤张量来初始化隐状态，它的形状是（隐藏层数，批量⼤⼩，隐藏单元数）。"
   ]
  },
  {
   "cell_type": "code",
   "execution_count": null,
   "id": "4b35e3e4",
   "metadata": {},
   "outputs": [],
   "source": [
    "state = torch.zeros((1, batch_size, num_hiddens))\n",
    "state.shape"
   ]
  },
  {
   "cell_type": "markdown",
   "id": "2101a483",
   "metadata": {},
   "source": [
    "通过⼀个隐状态和⼀个输⼊，我们就可以⽤更新后的隐状态计算输出。需要强调的是，rnn_layer的“输出” （Y）\n",
    "不涉及输出层的计算：它是指每个时间步的隐状态，这些隐状态可以⽤作后续输出层的输⼊。"
   ]
  },
  {
   "cell_type": "code",
   "execution_count": null,
   "id": "07f187f9",
   "metadata": {},
   "outputs": [],
   "source": [
    "X = torch.rand(size=(num_steps, batch_size, len(vocab)))\n",
    "Y, state_new = rnn_layer(X, state)\n",
    "Y.shape, state_new.shape"
   ]
  },
  {
   "cell_type": "markdown",
   "id": "db81d2be",
   "metadata": {},
   "source": [
    "与 8.5节类似，我们为⼀个完整的循环神经⽹络模型定义了⼀个RNNModel类。注意，rnn_layer只包含隐藏的\n",
    "循环层，我们还需要创建⼀个单独的输出层。"
   ]
  },
  {
   "cell_type": "code",
   "execution_count": 2,
   "id": "a711fce1",
   "metadata": {},
   "outputs": [],
   "source": [
    "class RNNModel(nn.Module):\n",
    "    \"\"\"循环神经网络模型\"\"\"\n",
    "    def __init__(self, rnn_layer, vocab_size, **kwargs):\n",
    "        super(RNNModel, self).__init__(**kwargs)\n",
    "        self.rnn = rnn_layer\n",
    "        self.vocab_size = vocab_size\n",
    "        self.num_hiddens = self.rnn.hidden_size\n",
    "        # 如果RNN是双向的（之后将介绍），num_directions应该是2，否则应该是1\n",
    "        if not self.rnn.bidirectional:\n",
    "          self.num_directions = 1\n",
    "          self.linear = nn.Linear(self.num_hiddens, self.vocab_size)\n",
    "        else:\n",
    "          self.num_directions = 2\n",
    "          self.linear = nn.Linear(self.num_hiddens * 2, self.vocab_size)\n",
    "\n",
    "    def forward(self, inputs, state):\n",
    "        X = F.one_hot(inputs.T.long(), self.vocab_size)\n",
    "        X = X.to(torch.float32)\n",
    "        Y, state = self.rnn(X, state)\n",
    "        # 全连接层首先将Y的形状改为（时间步数*批量大小，隐藏层单元数）\n",
    "        # 它的输出形状是（时间步数*批量大小，词表大小）。\n",
    "        output = self.linear(Y.reshape((-1, Y.shape[-1])))\n",
    "        return output, state\n",
    "\n",
    "    def begin_state(self, device, batch_size=1):\n",
    "        if not isinstance(self.rnn, nn.LSTM):\n",
    "          # nn.GRU以张量作为隐状态\n",
    "          return torch.zeros((self.num_directions * self.rnn.num_layers,\n",
    "                     batch_size, self.num_hiddens),\n",
    "                     device=device)\n",
    "        else:\n",
    "          # nn.LSTM以元组作为隐状态\n",
    "          return (torch.zeros((\n",
    "              self.num_directions*self.rnn.num_layers,\n",
    "              batch_size, self.num_hiddens), device=device),\n",
    "                torch.zeros((\n",
    "                    self.num_directions*self.rnn.num_layers,\n",
    "                    batch_size, self.num_hiddens),device=device))"
   ]
  },
  {
   "cell_type": "markdown",
   "id": "262618bc",
   "metadata": {},
   "source": [
    "### 训练与预测"
   ]
  },
  {
   "cell_type": "markdown",
   "id": "c55132fa",
   "metadata": {},
   "source": [
    "在训练模型之前，让我们基于⼀个具有随机权重的模型进⾏预测。"
   ]
  },
  {
   "cell_type": "code",
   "execution_count": null,
   "id": "c6dc2530",
   "metadata": {},
   "outputs": [],
   "source": [
    "device = d2l.try_gpu()\n",
    "net = RNNModel(rnn_layer, vocab_size=len(vocab))\n",
    "net = net.to(device)\n",
    "d2l.predict_ch8('time traveller', 10, net, vocab, device)"
   ]
  },
  {
   "cell_type": "markdown",
   "id": "e49cceda",
   "metadata": {},
   "source": [
    "很明显，这种模型根本不能输出好的结果。接下来，我们使⽤ 8.5节中定义的超参数调⽤train_ch8，并且使\n",
    "⽤⾼级API训练模型。"
   ]
  },
  {
   "cell_type": "code",
   "execution_count": null,
   "id": "2ed62e54",
   "metadata": {},
   "outputs": [],
   "source": [
    "num_epochs, lr = 500, 1\n",
    "d2l.train_ch8(net, train_iter, vocab, lr, num_epochs, device)"
   ]
  },
  {
   "cell_type": "markdown",
   "id": "7368c061",
   "metadata": {},
   "source": [
    "与上⼀节相⽐，由于深度学习框架的⾼级API对代码进⾏了更多的优化，该模型在较短的时间内达到了较低\n",
    "的困惑度。"
   ]
  },
  {
   "cell_type": "markdown",
   "id": "9b96ca74",
   "metadata": {},
   "source": [
    "⼩结\n",
    "\n",
    "    • 深度学习框架的⾼级API提供了循环神经⽹络层的实现。\n",
    "    • ⾼级API的循环神经⽹络层返回⼀个输出和⼀个更新后的隐状态，我们还需要计算整个模型的输出层。\n",
    "    • 相⽐从零开始实现的循环神经⽹络，使⽤⾼级API实现可以加速训练。"
   ]
  },
  {
   "cell_type": "code",
   "execution_count": null,
   "id": "f2a401f8",
   "metadata": {},
   "outputs": [],
   "source": []
  }
 ],
 "metadata": {
  "kernelspec": {
   "display_name": "my_env",
   "language": "python",
   "name": "my_env"
  },
  "language_info": {
   "codemirror_mode": {
    "name": "ipython",
    "version": 3
   },
   "file_extension": ".py",
   "mimetype": "text/x-python",
   "name": "python",
   "nbconvert_exporter": "python",
   "pygments_lexer": "ipython3",
   "version": "3.9.17"
  }
 },
 "nbformat": 4,
 "nbformat_minor": 5
}
