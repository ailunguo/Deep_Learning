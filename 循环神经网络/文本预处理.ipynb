{
 "cells": [
  {
   "cell_type": "markdown",
   "id": "de2c9589",
   "metadata": {},
   "source": [
    "## 文本预处理"
   ]
  },
  {
   "cell_type": "markdown",
   "id": "2b8169ad",
   "metadata": {},
   "source": [
    "对于序列数据处理问题，我们在 8.1节中评估了所需的统计⼯具和预测时⾯临的挑战。这样的数据存在许多\n",
    "种形式，⽂本是最常⻅例⼦之⼀。例如，⼀篇⽂章可以被简单地看作⼀串单词序列，甚⾄是⼀串字符序列。本\n",
    "节中，我们将解析⽂本的常⻅预处理步骤。这些步骤通常包括：\n",
    "1. 将⽂本作为字符串加载到内存中。\n",
    "2. 将字符串拆分为词元（如单词和字符）。\n",
    "3. 建⽴⼀个词表，将拆分的词元映射到数字索引。\n",
    "4. 将⽂本转换为数字索引序列，⽅便模型操作。"
   ]
  },
  {
   "cell_type": "code",
   "execution_count": 1,
   "id": "9e5a5580",
   "metadata": {},
   "outputs": [],
   "source": [
    "import collections\n",
    "import re\n",
    "from d2l import torch as d2l"
   ]
  },
  {
   "cell_type": "markdown",
   "id": "f30d31ee",
   "metadata": {},
   "source": [
    "### 读取数据集"
   ]
  },
  {
   "cell_type": "markdown",
   "id": "0d91e76f",
   "metadata": {},
   "source": [
    "⾸先，我们从H.G.Well的时光机器 99 中加载⽂本。这是⼀个相当⼩的语料库，只有30000多个单词，但⾜够我\n",
    "们⼩试⽜⼑，⽽现实中的⽂档集合可能会包含数⼗亿个单词。下⾯的函数将数据集读取到由多条⽂本⾏组成\n",
    "的列表中，其中每条⽂本⾏都是⼀个字符串。为简单起⻅，我们在这⾥忽略了标点符号和字⺟⼤写。"
   ]
  },
  {
   "cell_type": "code",
   "execution_count": 3,
   "id": "9ffc9a4a",
   "metadata": {},
   "outputs": [
    {
     "name": "stdout",
     "output_type": "stream",
     "text": [
      "# 文本总行数: 3221\n",
      "the time machine by h g wells\n",
      "twinkled and his usually pale face was flushed and animated the\n"
     ]
    }
   ],
   "source": [
    "# @save\n",
    "d2l.DATA_HUB['time_machine'] = (d2l.DATA_URL + 'timemachine.txt',\n",
    "                                '090b5e7e70c295757f55df93cb0a180b9691891a')\n",
    "\n",
    "# d2l.read_time_machine()\n",
    "def read_time_machine(): # @save\n",
    "    \"\"\"将时间机器数据集加载到文本行的列表中\"\"\"\n",
    "    with open(d2l.download('time_machine'), 'r') as f:\n",
    "        lines = f.readlines()\n",
    "    return [re.sub('[^A-Za-z]+', ' ', line).strip().lower() for line in lines]\n",
    "\n",
    "lines = read_time_machine()\n",
    "print(f'# 文本总行数: {len(lines)}')\n",
    "print(lines[0])\n",
    "print(lines[10])"
   ]
  },
  {
   "cell_type": "markdown",
   "id": "d09c46b5",
   "metadata": {},
   "source": [
    "### 词元化"
   ]
  },
  {
   "cell_type": "markdown",
   "id": "8113cc30",
   "metadata": {},
   "source": [
    "下⾯的tokenize函数将⽂本⾏列表（lines）作为输⼊，列表中的每个元素是⼀个⽂本序列（如⼀条⽂本⾏）。\n",
    "每个⽂本序列⼜被拆分成⼀个词元列表，词元（token）是⽂本的基本单位。最后，返回⼀个由词元列表组成\n",
    "的列表，其中的每个词元都是⼀个字符串（string）。"
   ]
  },
  {
   "cell_type": "code",
   "execution_count": 4,
   "id": "7b0d7cb0",
   "metadata": {},
   "outputs": [],
   "source": [
    "# d2l.tokenize()\n",
    "def tokenize(lines, token='word'):\n",
    "    \"\"\"将文本行拆分为单词或字符词元\"\"\"\n",
    "    if token == 'word':\n",
    "        return [line.split() for line in lines]\n",
    "    elif token == 'char':\n",
    "        return [list(line) for line in lines]\n",
    "    else:\n",
    "        print('错误：未知词元类型：' + token)"
   ]
  },
  {
   "cell_type": "code",
   "execution_count": 6,
   "id": "98192161",
   "metadata": {},
   "outputs": [
    {
     "name": "stdout",
     "output_type": "stream",
     "text": [
      "['the', 'time', 'machine', 'by', 'h', 'g', 'wells']\n",
      "[]\n",
      "[]\n",
      "[]\n",
      "[]\n",
      "['i']\n",
      "[]\n",
      "[]\n",
      "['the', 'time', 'traveller', 'for', 'so', 'it', 'will', 'be', 'convenient', 'to', 'speak', 'of', 'him']\n",
      "['was', 'expounding', 'a', 'recondite', 'matter', 'to', 'us', 'his', 'grey', 'eyes', 'shone', 'and']\n",
      "['twinkled', 'and', 'his', 'usually', 'pale', 'face', 'was', 'flushed', 'and', 'animated', 'the']\n"
     ]
    }
   ],
   "source": [
    "tokens = tokenize(lines)\n",
    "for i in range(11):\n",
    "    print(tokens[i])"
   ]
  },
  {
   "cell_type": "code",
   "execution_count": 7,
   "id": "c07e4f9c",
   "metadata": {},
   "outputs": [
    {
     "data": {
      "text/plain": [
       "['zhang', 'zhi', 'hui']"
      ]
     },
     "execution_count": 7,
     "metadata": {},
     "output_type": "execute_result"
    }
   ],
   "source": [
    "'zhang zhi hui '.split()"
   ]
  },
  {
   "cell_type": "markdown",
   "id": "db146716",
   "metadata": {},
   "source": [
    "### 词表"
   ]
  },
  {
   "cell_type": "markdown",
   "id": "7a571e9f",
   "metadata": {},
   "source": [
    "词元的类型是字符串，⽽模型需要的输⼊是数字，因此这种类型不⽅便模型使⽤。现在，让我们构建⼀个字\n",
    "典，通常也叫做词表（vocabulary），⽤来将字符串类型的词元映射到从0开始的数字索引中。我们先将训练\n",
    "集中的所有⽂档合并在⼀起，对它们的唯⼀词元进⾏统计，得到的统计结果称之为语料（corpus）。然后根\n",
    "据每个唯⼀词元的出现频率，为其分配⼀个数字索引。很少出现的词元通常被移除，这可以降低复杂性。另\n",
    "外，语料库中不存在或已删除的任何词元都将映射到⼀个特定的未知词元(unk)。我们可以选择增加⼀个\n",
    "列表，⽤于保存那些被保留的词元，例如：填充词元（“(pad)”）；序列开始词元（“(bos)”）；序列结束词元\n",
    "（“(eos)”）。"
   ]
  },
  {
   "cell_type": "code",
   "execution_count": 19,
   "id": "62726736",
   "metadata": {},
   "outputs": [],
   "source": [
    "# d2l.Vocab()\n",
    "class Vocab: # @save\n",
    "    \"\"\"文本词表\"\"\"\n",
    "    def __init__(self, tokens=None, min_freq=0, reserved_tokens=None):\n",
    "        if tokens is None:\n",
    "            tokens = []\n",
    "        if reserved_tokens is None:\n",
    "            reserved_tokens = []\n",
    "        # 按出现频率排序\n",
    "        counter = count_corpus(tokens)\n",
    "        # counter得到的是一个字典\n",
    "        # 对字典中的值进行排序\n",
    "        self._token_freqs = sorted(counter.items(), key=lambda x: x[1],\n",
    "                                   reverse=True)\n",
    "        # 未知词元的索引为0\n",
    "        # 把'<unk>'加到reserved_tokens列表的第一个位置\n",
    "        self.idx_to_token = ['<unk>'] + reserved_tokens\n",
    "        self.token_to_idx = {token: idx \n",
    "                             for idx, token in enumerate(self.idx_to_token)}\n",
    "        for token, freq in self._token_freqs:\n",
    "            if freq < min_freq:\n",
    "                break\n",
    "            if token not in self.token_to_idx:\n",
    "                self.idx_to_token.append(token)\n",
    "                self.token_to_idx[token] = len(self.idx_to_token)-1\n",
    "                \n",
    "    def __len__(self):\n",
    "        return len(self.idx_to_token)\n",
    "    \n",
    "    def __getitem__(self, tokens):\n",
    "        if not isinstance(tokens, (list, tuple)):\n",
    "            return self.token_to_idx.get(tokens, self.unk)\n",
    "        return [self.__getitem__(token) for token in tokens]\n",
    "    \n",
    "    def to_tokens(self, indices):\n",
    "        if not isinstance(indices, (list, tuple)):\n",
    "            return self.idx_to_token[indices]\n",
    "        return [self.idx_to_token[index] for index in indices]\n",
    "    \n",
    "    @property\n",
    "    def unk(self): # 未知词云的索引为0\n",
    "        return 0\n",
    "    @property\n",
    "    def token_freqs(self):\n",
    "        return self._token_freqs\n",
    "\n",
    "# d2l.count_corpus()\n",
    "def count_corpus(tokens): # @save\n",
    "    \"\"\"统计词元的频率\"\"\"\n",
    "    # 这里的tokens是1D列表或2D列表\n",
    "    if len(tokens) == 0 or isinstance(tokens[0], list):\n",
    "        # 将词元列表展平成一个列表\n",
    "        tokens = [token for line in tokens for token in line]\n",
    "    return collections.Counter(tokens)"
   ]
  },
  {
   "cell_type": "code",
   "execution_count": 20,
   "id": "084e15d9",
   "metadata": {},
   "outputs": [
    {
     "name": "stdout",
     "output_type": "stream",
     "text": [
      "[('<unk>', 0), ('the', 1), ('i', 2), ('and', 3), ('of', 4), ('a', 5), ('to', 6), ('was', 7), ('in', 8), ('that', 9)]\n"
     ]
    }
   ],
   "source": [
    "# 我们⾸先使⽤时光机器数据集作为语料库来构建词表，然后打印前⼏个⾼频词元及其索引。\n",
    "vocab = Vocab(tokens)\n",
    "print(list(vocab.token_to_idx.items())[:10])"
   ]
  },
  {
   "cell_type": "code",
   "execution_count": 21,
   "id": "5c062c5a",
   "metadata": {},
   "outputs": [
    {
     "name": "stdout",
     "output_type": "stream",
     "text": [
      "文本： ['the', 'time', 'machine', 'by', 'h', 'g', 'wells']\n",
      "索引： [1, 19, 50, 40, 2183, 2184, 400]\n",
      "文本： ['twinkled', 'and', 'his', 'usually', 'pale', 'face', 'was', 'flushed', 'and', 'animated', 'the']\n",
      "索引： [2186, 3, 25, 1044, 362, 113, 7, 1421, 3, 1045, 1]\n"
     ]
    }
   ],
   "source": [
    "# 现在，我们可以将每⼀条⽂本⾏转换成⼀个数字索引列表。\n",
    "for i in [0, 10]:\n",
    "    print('文本：', tokens[i])\n",
    "    print('索引：', vocab[tokens[i]])"
   ]
  },
  {
   "cell_type": "markdown",
   "id": "017c8d39",
   "metadata": {},
   "source": [
    "### 整合所有功能"
   ]
  },
  {
   "cell_type": "markdown",
   "id": "e90fc642",
   "metadata": {},
   "source": [
    "在使⽤上述函数时，我们将所有功能打包到load_corpus_time_machine函数中，该函数返回corpus（词元索\n",
    "引列表）和vocab（时光机器语料库的词表）。我们在这⾥所做的改变是：\n",
    "1. 为了简化后⾯章节中的训练，我们使⽤字符（⽽不是单词）实现⽂本词元化；\n",
    "2. 时光机器数据集中的每个⽂本⾏不⼀定是⼀个句⼦或⼀个段落，还可能是⼀个单词，因此返回\n",
    "的corpus仅处理为单个列表，⽽不是使⽤多词元列表构成的⼀个列表。"
   ]
  },
  {
   "cell_type": "code",
   "execution_count": 22,
   "id": "70abd985",
   "metadata": {},
   "outputs": [],
   "source": [
    "# d2l.load_corpus_time_machine()\n",
    "def load_corpus_time_machine(max_tokens=-1): #@save\n",
    "    \"\"\"返回时光机器数据集的词元索引列表和词表\"\"\"\n",
    "    lines = read_time_machine()\n",
    "    tokens = tokenize(lines, 'char')\n",
    "    vocab = Vocab(tokens)\n",
    "    # 因为时光机器数据集中的每个文本行不一定是一个句子或一个段落，\n",
    "    # 所以将所有文本行展开到一个列表中\n",
    "    corpus = [vocab[token] for line in tokens for token in line]\n",
    "    if max_tokens > 0:\n",
    "        corpus = corpus[:max_tokens]\n",
    "    return corpus, vocab"
   ]
  },
  {
   "cell_type": "code",
   "execution_count": 23,
   "id": "d79dd94d",
   "metadata": {},
   "outputs": [
    {
     "data": {
      "text/plain": [
       "(170580, 28)"
      ]
     },
     "execution_count": 23,
     "metadata": {},
     "output_type": "execute_result"
    }
   ],
   "source": [
    "corpus, vocab = load_corpus_time_machine()\n",
    "len(corpus), len(vocab)"
   ]
  },
  {
   "cell_type": "code",
   "execution_count": 27,
   "id": "0d7d051e",
   "metadata": {},
   "outputs": [
    {
     "data": {
      "text/plain": [
       "dict_items([('<unk>', 0), (' ', 1), ('e', 2), ('t', 3), ('a', 4), ('i', 5), ('n', 6), ('o', 7), ('s', 8), ('h', 9), ('r', 10), ('d', 11), ('l', 12), ('m', 13), ('u', 14), ('c', 15), ('f', 16), ('w', 17), ('g', 18), ('y', 19), ('p', 20), ('b', 21), ('v', 22), ('k', 23), ('x', 24), ('z', 25), ('j', 26), ('q', 27)])"
      ]
     },
     "execution_count": 27,
     "metadata": {},
     "output_type": "execute_result"
    }
   ],
   "source": [
    "vocab.token_to_idx.items()"
   ]
  },
  {
   "cell_type": "markdown",
   "id": "96bcf934",
   "metadata": {},
   "source": [
    "⼩结\n",
    "\n",
    "    • ⽂本是序列数据的⼀种最常⻅的形式之⼀。\n",
    "    • 为了对⽂本进⾏预处理，我们通常将⽂本拆分为词元，构建词表将词元字符串映射为数字索引，并将⽂本数据转换为词元索引以供模型操作。"
   ]
  },
  {
   "cell_type": "markdown",
   "id": "217bc65e",
   "metadata": {},
   "source": [
    "## 语言模型和数据集"
   ]
  },
  {
   "attachments": {
    "image.png": {
     "image/png": "[encoded data removed]"
    }
   },
   "cell_type": "markdown",
   "id": "dc79453e",
   "metadata": {},
   "source": [
    "在 8.2节中，我们了解了如何将⽂本数据映射为词元，以及将这些词元可以视为⼀系列离散的观测，例如单\n",
    "词或字符。假设⻓度为T的⽂本序列中的词元依次为x 1 ,x 2 ,...,x T 。于是，x t （1 ≤ t ≤ T）可以被认为是⽂\n",
    "本序列在时间步t处的观测或标签。在给定这样的⽂本序列时，语⾔模型（language model）的⽬标是估计序\n",
    "列的联合概率\n",
    "![image.png](attachment:image.png)\n",
    "例如，只需要⼀次抽取⼀个词元x t ∼ P(x t | x t−1 ,...,x 1 )，⼀个理想的语⾔模型就能够基于模型本⾝⽣成⾃\n",
    "然⽂本。与猴⼦使⽤打字机完全不同的是，从这样的模型中提取的⽂本都将作为⾃然语⾔（例如，英语⽂本）\n",
    "来传递。只需要基于前⾯的对话⽚断中的⽂本，就⾜以⽣成⼀个有意义的对话。显然，我们离设计出这样的\n",
    "系统还很遥远，因为它需要“理解”⽂本，⽽不仅仅是⽣成语法合理的内容。\n",
    "\n",
    "尽管如此，语⾔模型依然是⾮常有⽤的。例如，短语“to recognize speech”和“to wreck a nice beach”读\n",
    "⾳上听起来⾮常相似。这种相似性会导致语⾳识别中的歧义，但是这很容易通过语⾔模型来解决，因为第⼆\n",
    "句的语义很奇怪。同样，在⽂档摘要⽣成算法中，“狗咬⼈”⽐“⼈咬狗”出现的频率要⾼得多，或者“我想\n",
    "吃奶奶”是⼀个相当匪夷所思的语句，⽽“我想吃，奶奶”则要正常得多。"
   ]
  },
  {
   "cell_type": "code",
   "execution_count": null,
   "id": "72524805",
   "metadata": {},
   "outputs": [],
   "source": []
  }
 ],
 "metadata": {
  "kernelspec": {
   "display_name": "my_env",
   "language": "python",
   "name": "my_env"
  },
  "language_info": {
   "codemirror_mode": {
    "name": "ipython",
    "version": 3
   },
   "file_extension": ".py",
   "mimetype": "text/x-python",
   "name": "python",
   "nbconvert_exporter": "python",
   "pygments_lexer": "ipython3",
   "version": "3.9.17"
  }
 },
 "nbformat": 4,
 "nbformat_minor": 5
}
